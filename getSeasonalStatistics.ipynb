{
 "cells": [
  {
   "cell_type": "code",
   "execution_count": 1,
   "metadata": {},
   "outputs": [],
   "source": [
    "import config\n",
    "import requests\n",
    "import pandas as pd \n",
    "from bs4 import BeautifulSoup"
   ]
  },
  {
   "cell_type": "code",
   "execution_count": 2,
   "metadata": {},
   "outputs": [],
   "source": [
    "years = list(range(config.startingYear, config.finalYear + 1))\n",
    "\n",
    "types = [\"totals\", \"advanced\"]"
   ]
  },
  {
   "cell_type": "code",
   "execution_count": 3,
   "metadata": {},
   "outputs": [],
   "source": [
    "url_start = \"https://www.basketball-reference.com/leagues/NBA_{}_{}.html\""
   ]
  },
  {
   "cell_type": "code",
   "execution_count": 4,
   "metadata": {},
   "outputs": [],
   "source": [
    "for t in types:\n",
    "    for year in years:\n",
    "        url = url_start.format(year, t)\n",
    "        data = requests.get(url)\n",
    "\n",
    "        with open(\"stats/{}_{}.html\".format(t, year), \"w+\", encoding=\"utf-8\") as f:\n",
    "            f.write(data.text)\n"
   ]
  },
  {
   "cell_type": "code",
   "execution_count": 5,
   "metadata": {},
   "outputs": [],
   "source": [
    "def fixTradedPlayers(df):\n",
    "    for index, row in df.iterrows():\n",
    "        if(row[\"Tm\"] == \"TOT\"):\n",
    "            totIndex = index\n",
    "            dupePlayer = df.loc[df['Player']==row['Player']]\n",
    "            for indexx, roww in dupePlayer.iterrows():\n",
    "                team = roww.Tm # Ensures team is set to the most recent team the player played for\n",
    "                if(indexx != totIndex):\n",
    "                    df.drop([indexx], inplace=True) # Drop duplicate player rows, keeps total stats\n",
    "            df.at[totIndex, \"Tm\"] = team\n",
    "    return df"
   ]
  },
  {
   "cell_type": "code",
   "execution_count": 6,
   "metadata": {},
   "outputs": [],
   "source": [
    "def addYearlyStats(df1, df2, year):\n",
    "    \n",
    "# Drop Unneeded Columns\n",
    "    df2 = df2.drop([\"Rk\",\"Player\",\"Pos\",\"Age\",\"Tm\",\"G\",\"MP\",\"Unnamed: 19\",\"Unnamed: 24\"], axis=1)\n",
    "# Add two DFs\n",
    "    result = pd.concat([df1, df2], axis=1)\n",
    "# Export to CSV\n",
    "    result.to_csv(\"csvStats/stats_\" + year + \".csv\")"
   ]
  },
  {
   "cell_type": "code",
   "execution_count": 7,
   "metadata": {},
   "outputs": [],
   "source": [
    "totalStats = {}\n",
    "for t in types:\n",
    "    if (t == \"totals\"): \n",
    "        idName = \"totals_stats\" \n",
    "    else: \n",
    "        idName = \"advanced_stats\" \n",
    "    for year in years:\n",
    "\n",
    "        with open(\"stats/{}_{}.html\".format(t, year), encoding=\"utf-8\") as f:\n",
    "            page = f.read()\n",
    "\n",
    "        soup = BeautifulSoup(page, \"html.parser\") \n",
    "        totals = soup.find(id=idName)\n",
    "        for tr in totals.find_all(\"tr\", {'class':'thead'}): \n",
    "            tr.decompose()\n",
    "        totalStats[t + \"_\" + str(year)] = pd.read_html(str(totals))[0]\n",
    "        totalStats[t + \"_\" + str(year)] = fixTradedPlayers(totalStats[t + \"_\" + str(year)])"
   ]
  },
  {
   "cell_type": "code",
   "execution_count": null,
   "metadata": {},
   "outputs": [],
   "source": [
    "for year in years:\n",
    "    addYearlyStats(totalStats[\"totals_\" + str(year)], totalStats[\"advanced_\" + str(year)], str(year))"
   ]
  }
 ],
 "metadata": {
  "kernelspec": {
   "display_name": "Python 3.10.7 64-bit",
   "language": "python",
   "name": "python3"
  },
  "language_info": {
   "codemirror_mode": {
    "name": "ipython",
    "version": 3
   },
   "file_extension": ".py",
   "mimetype": "text/x-python",
   "name": "python",
   "nbconvert_exporter": "python",
   "pygments_lexer": "ipython3",
   "version": "3.10.7"
  },
  "orig_nbformat": 4,
  "vscode": {
   "interpreter": {
    "hash": "0ad8f95b8877c3a5b397b50b5e4d28358dd37adcbb03ef1de1909d467b26110b"
   }
  }
 },
 "nbformat": 4,
 "nbformat_minor": 2
}
